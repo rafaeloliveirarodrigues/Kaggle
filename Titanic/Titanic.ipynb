{
 "cells": [
  {
   "cell_type": "code",
   "execution_count": 1,
   "metadata": {},
   "outputs": [],
   "source": [
    "import pandas as pd\n",
    "import seaborn as sns\n",
    "from sklearn.linear_model import LogisticRegression as lr\n",
    "from sklearn.metrics import confusion_matrix\n",
    "import math\n",
    "from sklearn.model_selection import train_test_split\n",
    "from sklearn.neighbors import KNeighborsClassifier\n",
    "from sklearn.naive_bayes import GaussianNB"
   ]
  },
  {
   "cell_type": "code",
   "execution_count": 2,
   "metadata": {},
   "outputs": [
    {
     "data": {
      "text/html": [
       "<div>\n",
       "<style scoped>\n",
       "    .dataframe tbody tr th:only-of-type {\n",
       "        vertical-align: middle;\n",
       "    }\n",
       "\n",
       "    .dataframe tbody tr th {\n",
       "        vertical-align: top;\n",
       "    }\n",
       "\n",
       "    .dataframe thead th {\n",
       "        text-align: right;\n",
       "    }\n",
       "</style>\n",
       "<table border=\"1\" class=\"dataframe\">\n",
       "  <thead>\n",
       "    <tr style=\"text-align: right;\">\n",
       "      <th></th>\n",
       "      <th>Sex</th>\n",
       "      <th>Age</th>\n",
       "      <th>Survived</th>\n",
       "    </tr>\n",
       "    <tr>\n",
       "      <th>PassengerId</th>\n",
       "      <th></th>\n",
       "      <th></th>\n",
       "      <th></th>\n",
       "    </tr>\n",
       "  </thead>\n",
       "  <tbody>\n",
       "    <tr>\n",
       "      <th>1</th>\n",
       "      <td>male</td>\n",
       "      <td>22.0</td>\n",
       "      <td>0</td>\n",
       "    </tr>\n",
       "    <tr>\n",
       "      <th>2</th>\n",
       "      <td>female</td>\n",
       "      <td>38.0</td>\n",
       "      <td>1</td>\n",
       "    </tr>\n",
       "    <tr>\n",
       "      <th>3</th>\n",
       "      <td>female</td>\n",
       "      <td>26.0</td>\n",
       "      <td>1</td>\n",
       "    </tr>\n",
       "    <tr>\n",
       "      <th>4</th>\n",
       "      <td>female</td>\n",
       "      <td>35.0</td>\n",
       "      <td>1</td>\n",
       "    </tr>\n",
       "    <tr>\n",
       "      <th>5</th>\n",
       "      <td>male</td>\n",
       "      <td>35.0</td>\n",
       "      <td>0</td>\n",
       "    </tr>\n",
       "    <tr>\n",
       " 
       "  </tbody>\n",
       "</table>\n",
       "</div>"
      ],
      "text/plain": [
       "                Sex   Age  Survived\n",
       "PassengerId                        \n",
       "1              male  22.0         0\n",
       "2            female  38.0         1\n",
       "3            female  26.0         1\n",
       "4            female  35.0         1\n",
       "5              male  35.0         0",
       "
      ]
     },
     "execution_count": 2,
     "metadata": {},
     "output_type": "execute_result"
    }
   ],
   "source": [
    "df = pd.read_csv(\"train.csv\")\n",
    "df = df.set_index(\"PassengerId\")\n",
    "df.loc[:,[\"Sex\",\"Age\",\"Survived\"]].head(5)"
   ]
  },
  {
   "cell_type": "code",
   "execution_count": 3,
   "metadata": {},
   "outputs": [
    {
     "data": {
      "text/plain": [
       "(891, 11)"
      ]
     },
     "execution_count": 4,
     "metadata": {},
     "output_type": "execute_result"
    }
   ],
   "source": [
    "df.shape"
   ]
  },
  {
   "cell_type": "code",
   "execution_count": 5,
   "metadata": {},
   "outputs": [],
   "source": [
    "df.Sex = df.Sex.apply(lambda x: 1 if x == 'male' else 0)"
   ]
  },
  {
   "cell_type": "markdown",
   "metadata": {},
   "source": [
    "## Distribuiçao por sexo"
   ]
  },
  {
   "cell_type": "code",
   "execution_count": 6,
   "metadata": {},
   "outputs": [
    {
     "data": {
      "text/plain": [
       "<matplotlib.axes._subplots.AxesSubplot at 0x10736e10>"
      ]
     },
     "execution_count": 6,
     "metadata": {},
     "output_type": "execute_result"
    },
    {
     "data": {
      "image/png": "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\n",
      "text/plain": [
       "<Figure size 432x288 with 1 Axes>"
      ]
     },
     "metadata": {
      "needs_background": "light"
     },
     "output_type": "display_data"
    }
   ],
   "source": [
    "sns.distplot(df.Sex,kde=False)"
   ]
  },
  {
   "cell_type": "markdown",
   "metadata": {},
   "source": [
    "## Distribuicao das idades"
   ]
  },
  {
   "cell_type": "code",
   "execution_count": 7,
   "metadata": {},
   "outputs": [
    {
     "data": {
      "text/plain": [
       "<matplotlib.axes._subplots.AxesSubplot at 0x10b6c4e0>"
      ]
     },
     "execution_count": 7,
     "metadata": {},
     "output_type": "execute_result"
    },
    {
     "data": {
      "image/png": "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\n",
      "text/plain": [
       "<Figure size 432x288 with 1 Axes>"
      ]
     },
     "metadata": {
      "needs_background": "light"
     },
     "output_type": "display_data"
    }
   ],
   "source": [
    "sns.distplot(df.dropna().Age)"
   ]
  },
  {
   "cell_type": "markdown",
   "metadata": {},
   "source": [
    "## Mulheres que sobreviveram"
   ]
  },
  {
   "cell_type": "code",
   "execution_count": 8,
   "metadata": {},
   "outputs": [
    {
     "name": "stdout",
     "output_type": "stream",
     "text": [
      "mulheres sobreviveram  233\n",
      "Mulheres morreram  81\n"
     ]
    }
   ],
   "source": [
    "print \"mulheres sobreviveram \" , (df[df.Survived==1].Sex == 0).sum()\n",
    "print \"Mulheres morreram \" , (df[df.Survived==0].Sex == 0).sum()"
   ]
  },
  {
   "cell_type": "markdown",
   "metadata": {},
   "source": [
    "## Homens que sobreviveram"
   ]
  },
  {
   "cell_type": "code",
   "execution_count": 9,
   "metadata": {},
   "outputs": [
    {
     "name": "stdout",
     "output_type": "stream",
     "text": [
      "homens sobreviveram:  109\n",
      "homens morreram:  468\n"
     ]
    }
   ],
   "source": [
    "print \"homens sobreviveram: \"  , (df[df.Survived==1].Sex == 1).sum()\n",
    "print \"homens morreram: \" , (df[df.Survived==0].Sex == 1).sum()"
   ]
  },
  {
   "cell_type": "markdown",
   "metadata": {},
   "source": [
    "## Distribuição por idades dos sobreviventes"
   ]
  },
  {
   "cell_type": "code",
   "execution_count": 10,
   "metadata": {},
   "outputs": [
    {
     "data": {
      "text/plain": [
       "<matplotlib.axes._subplots.AxesSubplot at 0xffb6dd8>"
      ]
     },
     "execution_count": 10,
     "metadata": {},
     "output_type": "execute_result"
    },
    {
     "data": {
      "image/png": "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\n",
      "text/plain": [
       "<Figure size 432x288 with 1 Axes>"
      ]
     },
     "metadata": {
      "needs_background": "light"
     },
     "output_type": "display_data"
    }
   ],
   "source": [
    "sns.distplot(df_sem_nulls[df_sem_nulls.Survived==1].Age,bins=80)"
   ]
  },
  {
   "cell_type": "markdown",
   "metadata": {},
   "source": [
    "## Distribuição por idades dos não-sobreviventes"
   ]
  },
  {
   "cell_type": "code",
   "execution_count": 11,
   "metadata": {},
   "outputs": [
    {
     "data": {
      "text/plain": [
       "<matplotlib.axes._subplots.AxesSubplot at 0x1025b518>"
      ]
     },
     "execution_count": 11,
     "metadata": {},
     "output_type": "execute_result"
    },
    {
     "data": {
      "image/png": "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\n",
      "text/plain": [
       "<Figure size 432x288 with 1 Axes>"
      ]
     },
     "metadata": {
      "needs_background": "light"
     },
     "output_type": "display_data"
    }
   ],
   "source": [
    "sns.distplot(df_sem_nulls[df_sem_nulls.Survived==0].Age,bins=80)"
   ]
  },
  {
   "cell_type": "markdown",
   "metadata": {},
   "source": [
    "### Medidas de score:\n",
    "- *accuracy*\n",
    "- *precision*\n",
    "- *recall*"
   ]
  },
  {
   "cell_type": "markdown",
   "metadata": {},
   "source": [
    "## Preencher idades"
   ]
  },
  {
   "cell_type": "code",
   "execution_count": 12,
   "metadata": {},
   "outputs": [],
   "source": [
    "df_filled = df.copy()"
   ]
  },
  {
   "cell_type": "code",
   "execution_count": 13,
   "metadata": {},
   "outputs": [],
   "source": [
    "df_filled.loc[df_filled.Sex==1,\"Age\"] = df_filled[df_filled.Sex==1].Age.fillna((df_filled.Sex==1).mean())\n",
    "df_filled.loc[df_filled.Sex==0,\"Age\"] = df_filled[df_filled.Sex==0].Age.fillna((df_filled.Sex==0).mean())"
   ]
  },
  {
   "cell_type": "markdown",
   "metadata": {},
   "source": [
    "## Submissão baseline"
   ]
  },
  {
   "cell_type": "code",
   "execution_count": 14,
   "metadata": {},
   "outputs": [],
   "source": [
    "test = pd.read_csv(\"test.csv\")\n",
    "test = test.set_index(\"PassengerId\")\n",
    "test = test.loc[:,[\"Sex\",\"Age\",\"Survived\"]]\n",
    "test.Sex = test.Sex.apply(lambda x: 1 if x =='male' else 0)\n",
    "\n",
    "test_filled = test.copy()\n",
    "test_filled.loc[test_filled.Sex==1,\"Age\"] = test_filled[test_filled.Sex==1].Age.fillna((test_filled.Sex==1).mean())\n",
    "test_filled.loc[test_filled.Sex==0,\"Age\"] = test_filled[test_filled.Sex==0].Age.fillna((test_filled.Sex==0).mean())\n"
   ]
  },
  {
   "cell_type": "code",
   "execution_count": 15,
   "metadata": {},
   "outputs": [],
   "source": [
    "clf = lr()\n",
    "clf.fit(df_filled.loc[:,[\"Age\",\"Sex\"]],df_filled.Survived)\n",
    "pred = clf.predict(test_filled.loc[:,[\"Age\",\"Sex\"]])"
   ]
  },
  {
   "cell_type": "code",
   "execution_count": 16,
   "metadata": {},
   "outputs": [],
   "source": [
    "submission = pd.DataFrame(pred,index=test_filled.index,columns=[\"Survived\"])\n",
    "submission.to_csv(\"baseline_submission.csv\")\n",
    "#Kaggle result 0,76555"
   ]
  },
  {
   "cell_type": "markdown",
   "metadata": {},
   "source": [
    "## Estimar true error"
   ]
  },
  {
   "cell_type": "code",
   "execution_count": 17,
   "metadata": {},
   "outputs": [
    {
     "data": {
      "text/plain": [
       "0.7867564534231201"
      ]
     },
     "execution_count": 18,
     "metadata": {},
     "output_type": "execute_result"
    }
   ],
   "source": [
    "#errada\n",
    "clf = lr()\n",
    "clf.fit(df_filled.loc[:,[\"Age\",\"Sex\"]],df_filled.Survived)\n",
    "clf.score(df_filled.loc[:,[\"Age\",\"Sex\"]],df_filled.Survived)"
   ]
  },
  {
   "cell_type": "markdown",
   "metadata": {},
   "source": [
    "## Estimar com train_test"
   ]
  },
  {
   "cell_type": "code",
   "execution_count": 19,
   "metadata": {},
   "outputs": [],
   "source": [
    "X_train,X_test,y_train,y_test = train_test_split(df_filled.drop(\"Survived\",axis=1),df_filled.Survived,random_state=40,test_size=0.33,stratify=df_filled.Sex)"
   ]
  },
  {
   "cell_type": "code",
   "execution_count": 20,
   "metadata": {},
   "outputs": [
    {
     "data": {
      "text/plain": [
       "0.7661016949152543"
      ]
     },
     "execution_count": 21,
     "metadata": {},
     "output_type": "execute_result"
    }
   ],
   "source": [
    "clf = lr()\n",
    "clf.fit(X_train.loc[:,[\"Age\",\"Sex\"]],y_train)\n",
    "pred = clf.predict(X_test.loc[:,[\"Age\",\"Sex\"]])\n",
    "clf.score(X_test.loc[:,[\"Age\",\"Sex\"]],y_test)"
   ]
  },
  {
   "cell_type": "code",
   "execution_count": 22,
   "metadata": {},
   "outputs": [
    {
     "data": {
      "text/plain": [
       "array([[152,  30],\n",
       "       [ 39,  74]], dtype=int64)"
      ]
     },
     "execution_count": 23,
     "metadata": {},
     "output_type": "execute_result"
    }
   ],
   "source": [
    "cm = confusion_matrix(y_test,pred)"
   ]
  },
  {
   "cell_type": "code",
   "execution_count": 24,
   "metadata": {},
   "outputs": [
    {
     "data": {
      "text/plain": [
       "0.7661016949152543"
      ]
     },
     "execution_count": 25,
     "metadata": {},
     "output_type": "execute_result"
    }
   ],
   "source": [
    "accuracy = 1.0*(cm[0][0] + cm[1][1]) / cm.sum()\n",
    "accuracy"
   ]
  },
  {
   "cell_type": "code",
   "execution_count": 26,
   "metadata": {},
   "outputs": [
    {
     "data": {
      "text/plain": [
       "0.8351648351648352"
      ]
     },
     "execution_count": 27,
     "metadata": {},
     "output_type": "execute_result"
    }
   ],
   "source": [
    "precision = 1.0*(cm[0][0]) / (cm[0][0]+cm[0][1])\n",
    "precision"
   ]
  },
  {
   "cell_type": "code",
   "execution_count": 28,
   "metadata": {},
   "outputs": [
    {
     "data": {
      "text/plain": [
       "0.7958115183246073"
      ]
     },
     "execution_count": 29,
     "metadata": {},
     "output_type": "execute_result"
    }
   ],
   "source": [
    "recall = 1.0* (cm[0][0]) / (cm[0][0] + cm[1][0])\n",
    "recall"
   ]
  },
  {
   "cell_type": "markdown",
   "metadata": {},
   "source": [
    "## KNN"
   ]
  },
  {
   "cell_type": "code",
   "execution_count": 30,
   "metadata": {},
   "outputs": [],
   "source": [
    "clf = KNeighborsClassifier(n_neighbors=3)\n",
    "clf.fit(df_filled.loc[:,[\"Age\",\"Sex\"]],df_filled.Survived)\n",
    "pred = clf.predict(test_filled.loc[:,[\"Age\",\"Sex\"]])\n",
    "\n",
    "submission = pd.DataFrame(pred,index=test_filled.index,columns=[\"Survived\"])\n",
    "submission.to_csv(\"knn_submission.csv\")\n",
    "\n",
    "#Kaggle result 0,68899\n"
   ]
  },
  {
   "cell_type": "markdown",
   "metadata": {},
   "source": [
    "## NB"
   ]
  },
  {
   "cell_type": "code",
   "execution_count": 31,
   "metadata": {},
   "outputs": [],
   "source": [
    "clf = GaussianNB()\n",
    "clf.fit(df_filled.loc[:,[\"Age\",\"Sex\"]],df_filled.Survived)\n",
    "pred = clf.predict(test_filled.loc[:,[\"Age\",\"Sex\"]])\n",
    "\n",
    "submission = pd.DataFrame(pred,index=test_filled.index,columns=[\"Survived\"])\n",
    "submission.to_csv(\"nb_submission.csv\")\n",
    "\n",
    "#Kaggle result 0,76555"
   ]
  },
 ],
 "metadata": {
  "kernelspec": {
   "display_name": "Python 2",
   "language": "python",
   "name": "python2"
  },
  "language_info": {
   "codemirror_mode": {
    "name": "ipython",
    "version": 2
   },
   "file_extension": ".py",
   "mimetype": "text/x-python",
   "name": "python",
   "nbconvert_exporter": "python",
   "pygments_lexer": "ipython2",
   "version": "2.7.15"
  }
 },
 "nbformat": 4,
 "nbformat_minor": 2
}
